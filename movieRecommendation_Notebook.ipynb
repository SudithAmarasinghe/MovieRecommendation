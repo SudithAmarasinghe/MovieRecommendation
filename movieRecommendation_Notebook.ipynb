{
 "cells": [
  {
   "cell_type": "code",
   "execution_count": 1,
   "id": "a60254bd-23aa-4ce5-b151-fdb42d0860d8",
   "metadata": {},
   "outputs": [],
   "source": [
    "import pandas as pd\n",
    "from sklearn.model_selection import train_test_split\n",
    "from sklearn.feature_extraction.text import TfidfVectorizer\n",
    "from sklearn.preprocessing import LabelEncoder\n",
    "import torch\n",
    "from torch.utils.data import Dataset, DataLoader\n",
    "import torch.nn as nn\n",
    "import torch.optim as optim\n",
    "import matplotlib.pyplot as plt\n",
    "import nltk\n",
    "from nltk.sentiment.vader import SentimentIntensityAnalyzer"
   ]
  },
  {
   "cell_type": "code",
   "execution_count": 2,
   "id": "edbe7dff-2fd4-49d3-8e16-d8e044cb721d",
   "metadata": {},
   "outputs": [
    {
     "name": "stderr",
     "output_type": "stream",
     "text": [
      "[nltk_data] Downloading package vader_lexicon to\n",
      "[nltk_data]     C:\\Users\\MSI\\AppData\\Roaming\\nltk_data...\n",
      "[nltk_data]   Package vader_lexicon is already up-to-date!\n"
     ]
    },
    {
     "data": {
      "text/plain": [
       "True"
      ]
     },
     "execution_count": 2,
     "metadata": {},
     "output_type": "execute_result"
    }
   ],
   "source": [
    "# Download VADER lexicon for sentiment analysis\n",
    "nltk.download('vader_lexicon')"
   ]
  },
  {
   "cell_type": "code",
   "execution_count": 3,
   "id": "73859ea6-3c4c-484c-a9bc-8cf08e713162",
   "metadata": {},
   "outputs": [],
   "source": [
    "# Load dataset\n",
    "movies = pd.read_csv('dataset/movies.csv')\n",
    "ratings = pd.read_csv('dataset/ratings.csv')"
   ]
  },
  {
   "cell_type": "code",
   "execution_count": 4,
   "id": "73133adb-6156-4d23-8f0a-d6d541d1d816",
   "metadata": {},
   "outputs": [],
   "source": [
    "# Merge datasets\n",
    "data = pd.merge(ratings, movies, on='movieId')\n",
    "\n",
    "# Preprocess: Combine title and genres for a simplistic content-based filtering approach\n",
    "data['content'] = data['title'] + \" \" + data['genres']\n",
    "\n",
    "# Vectorize content using TF-IDF\n",
    "tfidf = TfidfVectorizer(stop_words='english')\n",
    "tfidf_matrix = tfidf.fit_transform(data['content'])\n",
    "\n",
    "# Encoding user IDs and movie IDs\n",
    "user_encoder = LabelEncoder()\n",
    "data['userId'] = user_encoder.fit_transform(data['userId'])\n",
    "\n",
    "movie_encoder = LabelEncoder()\n",
    "data['movieId'] = movie_encoder.fit_transform(data['movieId'])\n",
    "\n",
    "# Split the data\n",
    "train_data, test_data = train_test_split(data, test_size=0.2, random_state=42)"
   ]
  },
  {
   "cell_type": "code",
   "execution_count": 5,
   "id": "e6c9a5d8-e645-468a-bcef-1bd1645606e7",
   "metadata": {},
   "outputs": [
    {
     "name": "stderr",
     "output_type": "stream",
     "text": [
      "C:\\Users\\MSI\\AppData\\Local\\Temp\\ipykernel_22144\\3037696267.py:4: UserWarning: To copy construct from a tensor, it is recommended to use sourceTensor.clone().detach() or sourceTensor.clone().detach().requires_grad_(True), rather than torch.tensor(sourceTensor).\n",
      "  self.user_ids = torch.tensor(torch.Tensor(user_ids.to_numpy()), dtype=torch.long)\n",
      "C:\\Users\\MSI\\AppData\\Local\\Temp\\ipykernel_22144\\3037696267.py:5: UserWarning: To copy construct from a tensor, it is recommended to use sourceTensor.clone().detach() or sourceTensor.clone().detach().requires_grad_(True), rather than torch.tensor(sourceTensor).\n",
      "  self.movie_ids = torch.tensor(torch.Tensor(movie_ids.to_numpy()), dtype=torch.long)\n",
      "C:\\Users\\MSI\\AppData\\Local\\Temp\\ipykernel_22144\\3037696267.py:6: UserWarning: To copy construct from a tensor, it is recommended to use sourceTensor.clone().detach() or sourceTensor.clone().detach().requires_grad_(True), rather than torch.tensor(sourceTensor).\n",
      "  self.ratings = torch.tensor(torch.Tensor(ratings.to_numpy()), dtype=torch.float32)\n"
     ]
    }
   ],
   "source": [
    "# Custom Dataset Class\n",
    "class MovieDataset(Dataset):\n",
    "    def __init__(self, user_ids, movie_ids, ratings):\n",
    "        self.user_ids = torch.tensor(torch.Tensor(user_ids.to_numpy()), dtype=torch.long)\n",
    "        self.movie_ids = torch.tensor(torch.Tensor(movie_ids.to_numpy()), dtype=torch.long)\n",
    "        self.ratings = torch.tensor(torch.Tensor(ratings.to_numpy()), dtype=torch.float32)\n",
    "\n",
    "    def __len__(self):\n",
    "        return len(self.user_ids)\n",
    "\n",
    "    def __getitem__(self, idx):\n",
    "        return self.user_ids[idx], self.movie_ids[idx], self.ratings[idx]\n",
    "\n",
    "# Creating datasets\n",
    "train_dataset = MovieDataset(train_data['userId'], train_data['movieId'], train_data['rating'])\n",
    "test_dataset = MovieDataset(test_data['userId'], test_data['movieId'], test_data['rating'])\n",
    "\n",
    "# DataLoaders for batch processing\n",
    "train_loader = DataLoader(train_dataset, batch_size=64, shuffle=True)\n",
    "test_loader = DataLoader(test_dataset, batch_size=64, shuffle=False)"
   ]
  },
  {
   "cell_type": "code",
   "execution_count": 6,
   "id": "74941648-c236-40e4-bf21-b3ae787e8641",
   "metadata": {},
   "outputs": [],
   "source": [
    "# Movie Recommendation Model\n",
    "class MovieRecommendationModel(nn.Module):\n",
    "    def __init__(self, num_users, num_movies, embedding_size=50):\n",
    "        super(MovieRecommendationModel, self).__init__()\n",
    "        self.user_embedding = nn.Embedding(num_users, embedding_size)\n",
    "        self.movie_embedding = nn.Embedding(num_movies, embedding_size)\n",
    "        self.fc1 = nn.Linear(embedding_size * 2, 128)\n",
    "        self.fc2 = nn.Linear(128, 64)\n",
    "        self.fc3 = nn.Linear(64, 1)\n",
    "        \n",
    "    def forward(self, user_id, movie_id):\n",
    "        user_embedded = self.user_embedding(user_id)\n",
    "        movie_embedded = self.movie_embedding(movie_id)\n",
    "        x = torch.cat([user_embedded, movie_embedded], dim=-1)\n",
    "        x = torch.relu(self.fc1(x))\n",
    "        x = torch.relu(self.fc2(x))\n",
    "        rating = self.fc3(x)\n",
    "        return rating\n",
    "\n"
   ]
  },
  {
   "cell_type": "code",
   "execution_count": 7,
   "id": "3978dcef-174d-4283-9e2d-8bb17b340ef5",
   "metadata": {},
   "outputs": [],
   "source": [
    "# Device configuration\n",
    "device = torch.device('cuda' if torch.cuda.is_available() else 'cpu')"
   ]
  },
  {
   "cell_type": "code",
   "execution_count": 8,
   "id": "c230611a-f3a8-4145-b5e6-f95091045f95",
   "metadata": {},
   "outputs": [
    {
     "name": "stdout",
     "output_type": "stream",
     "text": [
      "cpu\n"
     ]
    }
   ],
   "source": [
    "print(device)"
   ]
  },
  {
   "cell_type": "code",
   "execution_count": 9,
   "id": "0731e205-f49f-4627-b57a-8fb4d7121b70",
   "metadata": {},
   "outputs": [],
   "source": [
    "# Instantiate the model and move it to GPU\n",
    "num_users = len(data['userId'].unique())\n",
    "num_movies = len(data['movieId'].unique())\n",
    "model = MovieRecommendationModel(num_users, num_movies).to(device)\n",
    "\n",
    "# Define loss and optimizer\n",
    "criterion = nn.MSELoss()\n",
    "optimizer = optim.Adam(model.parameters(), lr=0.001)\n",
    "\n",
    "# Initialize variables for early stopping\n",
    "best_test_loss = float('inf')\n",
    "best_test_accuracy = 0.0\n",
    "patience = 5\n",
    "patience_counter = 0\n",
    "model_save_path = 'best_movie_recommendation_model.pth'\n",
    "\n",
    "# Lists to store metrics for plotting\n",
    "train_losses = []\n",
    "test_losses = []\n",
    "train_accuracies = []\n",
    "test_accuracies = []"
   ]
  },
  {
   "cell_type": "code",
   "execution_count": 10,
   "id": "e8430b9e-f2b6-4486-8175-382c651a90a4",
   "metadata": {},
   "outputs": [],
   "source": [
    "def calculate_accuracy(loader, model):\n",
    "    model.eval()\n",
    "    correct = 0\n",
    "    total = 0\n",
    "\n",
    "    with torch.no_grad():\n",
    "        for user_id, movie_id, rating in loader:\n",
    "            user_id = user_id.to(device)\n",
    "            movie_id = movie_id.to(device)\n",
    "            rating = rating.to(device)\n",
    "\n",
    "            outputs = model(user_id, movie_id).squeeze()\n",
    "            predicted_ratings = outputs.round()  # round the predicted ratings to the nearest integer\n",
    "            correct += (predicted_ratings == rating.round()).sum().item()\n",
    "            total += rating.size(0)\n",
    "\n",
    "    return correct / total\n",
    "\n"
   ]
  },
  {
   "cell_type": "code",
   "execution_count": null,
   "id": "a3301ea9-f5e1-4935-8cc6-306366971f6d",
   "metadata": {},
   "outputs": [],
   "source": []
  },
  {
   "cell_type": "code",
   "execution_count": 11,
   "id": "0684c6c6-ce37-447d-9160-ba12a91e72af",
   "metadata": {},
   "outputs": [
    {
     "name": "stdout",
     "output_type": "stream",
     "text": [
      "Epoch 1/50, Training Loss: 0.7869, Training Accuracy: 0.4908\n",
      "Test Loss: 0.7998, Test Accuracy: 0.4709\n",
      "Saving model with Test Loss 0.7998 and Test Accuracy 0.4709\n",
      "Epoch 2/50, Training Loss: 0.7643, Training Accuracy: 0.5002\n",
      "Test Loss: 0.7826, Test Accuracy: 0.4867\n",
      "Saving model with Test Loss 0.7826 and Test Accuracy 0.4867\n",
      "Epoch 3/50, Training Loss: 0.7612, Training Accuracy: 0.5074\n",
      "Test Loss: 0.7708, Test Accuracy: 0.4944\n",
      "Saving model with Test Loss 0.7708 and Test Accuracy 0.4944\n",
      "Epoch 4/50, Training Loss: 0.7359, Training Accuracy: 0.5167\n",
      "Test Loss: 0.7545, Test Accuracy: 0.4956\n",
      "Saving model with Test Loss 0.7545 and Test Accuracy 0.4956\n",
      "Epoch 5/50, Training Loss: 0.7219, Training Accuracy: 0.5245\n",
      "Test Loss: 0.7331, Test Accuracy: 0.5162\n",
      "Saving model with Test Loss 0.7331 and Test Accuracy 0.5162\n",
      "Epoch 6/50, Training Loss: 0.6986, Training Accuracy: 0.5343\n",
      "Test Loss: 0.7216, Test Accuracy: 0.5259\n",
      "Saving model with Test Loss 0.7216 and Test Accuracy 0.5259\n",
      "Epoch 7/50, Training Loss: 0.6875, Training Accuracy: 0.5498\n",
      "Test Loss: 0.7106, Test Accuracy: 0.5383\n",
      "Saving model with Test Loss 0.7106 and Test Accuracy 0.5383\n",
      "Epoch 8/50, Training Loss: 0.6747, Training Accuracy: 0.5649\n",
      "Test Loss: 0.7004, Test Accuracy: 0.5363\n",
      "Saving model with Test Loss 0.7004 and Test Accuracy 0.5363\n",
      "Epoch 9/50, Training Loss: 0.6634, Training Accuracy: 0.5634\n",
      "Test Loss: 0.6761, Test Accuracy: 0.5560\n",
      "Saving model with Test Loss 0.6761 and Test Accuracy 0.5560\n",
      "Epoch 10/50, Training Loss: 0.6487, Training Accuracy: 0.5814\n",
      "Test Loss: 0.6627, Test Accuracy: 0.5664\n",
      "Saving model with Test Loss 0.6627 and Test Accuracy 0.5664\n",
      "Epoch 11/50, Training Loss: 0.6329, Training Accuracy: 0.5985\n",
      "Test Loss: 0.6436, Test Accuracy: 0.5746\n",
      "Saving model with Test Loss 0.6436 and Test Accuracy 0.5746\n",
      "Epoch 12/50, Training Loss: 0.6181, Training Accuracy: 0.6118\n",
      "Test Loss: 0.6345, Test Accuracy: 0.5873\n",
      "Saving model with Test Loss 0.6345 and Test Accuracy 0.5873\n",
      "Epoch 13/50, Training Loss: 0.6030, Training Accuracy: 0.6116\n",
      "Test Loss: 0.6138, Test Accuracy: 0.5965\n",
      "Saving model with Test Loss 0.6138 and Test Accuracy 0.5965\n",
      "Epoch 14/50, Training Loss: 0.5879, Training Accuracy: 0.6316\n",
      "Test Loss: 0.6050, Test Accuracy: 0.6071\n",
      "Saving model with Test Loss 0.6050 and Test Accuracy 0.6071\n",
      "Epoch 15/50, Training Loss: 0.5708, Training Accuracy: 0.6390\n",
      "Test Loss: 0.5934, Test Accuracy: 0.6095\n",
      "Saving model with Test Loss 0.5934 and Test Accuracy 0.6095\n",
      "Epoch 16/50, Training Loss: 0.5576, Training Accuracy: 0.6478\n",
      "Test Loss: 0.5715, Test Accuracy: 0.6332\n",
      "Saving model with Test Loss 0.5715 and Test Accuracy 0.6332\n",
      "Epoch 17/50, Training Loss: 0.5331, Training Accuracy: 0.6506\n",
      "Test Loss: 0.5681, Test Accuracy: 0.6442\n",
      "Saving model with Test Loss 0.5681 and Test Accuracy 0.6442\n",
      "Epoch 18/50, Training Loss: 0.5302, Training Accuracy: 0.6770\n",
      "Test Loss: 0.5348, Test Accuracy: 0.6531\n",
      "Saving model with Test Loss 0.5348 and Test Accuracy 0.6531\n",
      "Epoch 19/50, Training Loss: 0.5029, Training Accuracy: 0.6795\n",
      "Test Loss: 0.5357, Test Accuracy: 0.6642\n",
      "Saving model with Test Loss 0.5357 and Test Accuracy 0.6642\n",
      "Epoch 20/50, Training Loss: 0.4951, Training Accuracy: 0.6904\n",
      "Test Loss: 0.5194, Test Accuracy: 0.6736\n",
      "Saving model with Test Loss 0.5194 and Test Accuracy 0.6736\n",
      "Epoch 21/50, Training Loss: 0.4797, Training Accuracy: 0.6947\n",
      "Test Loss: 0.4967, Test Accuracy: 0.6793\n",
      "Saving model with Test Loss 0.4967 and Test Accuracy 0.6793\n",
      "Epoch 22/50, Training Loss: 0.4571, Training Accuracy: 0.7079\n",
      "Test Loss: 0.4772, Test Accuracy: 0.6834\n",
      "Saving model with Test Loss 0.4772 and Test Accuracy 0.6834\n",
      "Epoch 23/50, Training Loss: 0.4463, Training Accuracy: 0.7249\n",
      "Test Loss: 0.4749, Test Accuracy: 0.6974\n",
      "Saving model with Test Loss 0.4749 and Test Accuracy 0.6974\n",
      "Epoch 24/50, Training Loss: 0.4226, Training Accuracy: 0.7329\n",
      "Test Loss: 0.4644, Test Accuracy: 0.7067\n",
      "Saving model with Test Loss 0.4644 and Test Accuracy 0.7067\n",
      "Epoch 25/50, Training Loss: 0.4059, Training Accuracy: 0.7544\n",
      "Test Loss: 0.4423, Test Accuracy: 0.7275\n",
      "Saving model with Test Loss 0.4423 and Test Accuracy 0.7275\n",
      "Epoch 26/50, Training Loss: 0.3965, Training Accuracy: 0.7580\n",
      "Test Loss: 0.4308, Test Accuracy: 0.7313\n",
      "Saving model with Test Loss 0.4308 and Test Accuracy 0.7313\n",
      "Epoch 27/50, Training Loss: 0.3809, Training Accuracy: 0.7642\n",
      "Test Loss: 0.4083, Test Accuracy: 0.7509\n",
      "Saving model with Test Loss 0.4083 and Test Accuracy 0.7509\n",
      "Epoch 28/50, Training Loss: 0.3611, Training Accuracy: 0.7700\n",
      "Test Loss: 0.3947, Test Accuracy: 0.7530\n",
      "Saving model with Test Loss 0.3947 and Test Accuracy 0.7530\n",
      "Epoch 29/50, Training Loss: 0.3515, Training Accuracy: 0.7896\n",
      "Test Loss: 0.3762, Test Accuracy: 0.7641\n",
      "Saving model with Test Loss 0.3762 and Test Accuracy 0.7641\n",
      "Epoch 30/50, Training Loss: 0.3416, Training Accuracy: 0.7969\n",
      "Test Loss: 0.3735, Test Accuracy: 0.7715\n",
      "Saving model with Test Loss 0.3735 and Test Accuracy 0.7715\n",
      "Epoch 31/50, Training Loss: 0.3261, Training Accuracy: 0.8156\n",
      "Test Loss: 0.3591, Test Accuracy: 0.7846\n",
      "Saving model with Test Loss 0.3591 and Test Accuracy 0.7846\n",
      "Epoch 32/50, Training Loss: 0.3100, Training Accuracy: 0.8162\n",
      "Test Loss: 0.3323, Test Accuracy: 0.7858\n",
      "Saving model with Test Loss 0.3323 and Test Accuracy 0.7858\n",
      "Epoch 33/50, Training Loss: 0.2804, Training Accuracy: 0.8300\n",
      "Test Loss: 0.3234, Test Accuracy: 0.8031\n",
      "Saving model with Test Loss 0.3234 and Test Accuracy 0.8031\n",
      "Epoch 34/50, Training Loss: 0.2734, Training Accuracy: 0.8320\n",
      "Test Loss: 0.3143, Test Accuracy: 0.8195\n",
      "Saving model with Test Loss 0.3143 and Test Accuracy 0.8195\n",
      "Epoch 35/50, Training Loss: 0.2573, Training Accuracy: 0.8450\n",
      "Test Loss: 0.2774, Test Accuracy: 0.8244\n",
      "Saving model with Test Loss 0.2774 and Test Accuracy 0.8244\n",
      "Epoch 36/50, Training Loss: 0.2424, Training Accuracy: 0.8605\n",
      "Test Loss: 0.2778, Test Accuracy: 0.8356\n",
      "Saving model with Test Loss 0.2778 and Test Accuracy 0.8356\n",
      "Epoch 37/50, Training Loss: 0.2293, Training Accuracy: 0.8699\n",
      "Test Loss: 0.2677, Test Accuracy: 0.8362\n",
      "Saving model with Test Loss 0.2677 and Test Accuracy 0.8362\n",
      "Epoch 38/50, Training Loss: 0.2104, Training Accuracy: 0.8749\n",
      "Test Loss: 0.2497, Test Accuracy: 0.8504\n",
      "Saving model with Test Loss 0.2497 and Test Accuracy 0.8504\n",
      "Epoch 39/50, Training Loss: 0.1932, Training Accuracy: 0.8921\n",
      "Test Loss: 0.2352, Test Accuracy: 0.8670\n",
      "Saving model with Test Loss 0.2352 and Test Accuracy 0.8670\n",
      "Epoch 40/50, Training Loss: 0.1916, Training Accuracy: 0.8958\n",
      "Test Loss: 0.2353, Test Accuracy: 0.8631\n",
      "No improvement in test loss or accuracy for 1 epochs.\n",
      "Epoch 41/50, Training Loss: 0.1936, Training Accuracy: 0.8889\n",
      "Test Loss: 0.2366, Test Accuracy: 0.8738\n",
      "No improvement in test loss or accuracy for 2 epochs.\n",
      "Epoch 42/50, Training Loss: 0.1970, Training Accuracy: 0.9005\n",
      "Test Loss: 0.2391, Test Accuracy: 0.8735\n",
      "No improvement in test loss or accuracy for 3 epochs.\n",
      "Epoch 43/50, Training Loss: 0.1911, Training Accuracy: 0.8953\n",
      "Test Loss: 0.2322, Test Accuracy: 0.8700\n",
      "No improvement in test loss or accuracy for 4 epochs.\n",
      "Epoch 44/50, Training Loss: 0.1946, Training Accuracy: 0.8986\n",
      "Test Loss: 0.2269, Test Accuracy: 0.8799\n",
      "No improvement in test loss or accuracy for 5 epochs.\n",
      "Early stopping triggered after 44 epochs.\n",
      "Training complete\n"
     ]
    }
   ],
   "source": [
    "# Training loop with early stopping\n",
    "num_epochs = 50\n",
    "model.train()\n",
    "\n",
    "for epoch in range(num_epochs):\n",
    "    running_loss = 0.0\n",
    "    for user_id, movie_id, rating in train_loader:\n",
    "        # Move data to GPU\n",
    "        user_id = user_id.to(device)\n",
    "        movie_id = movie_id.to(device)\n",
    "        rating = rating.to(device)\n",
    "        \n",
    "        optimizer.zero_grad()\n",
    "        outputs = model(user_id, movie_id).squeeze()\n",
    "        loss = criterion(outputs, rating)\n",
    "        loss.backward()\n",
    "        optimizer.step()\n",
    "        running_loss += loss.item()\n",
    "    \n",
    "    # Calculate training loss and accuracy\n",
    "    train_loss = running_loss / len(train_loader)\n",
    "    train_accuracy = calculate_accuracy(train_loader, model)\n",
    "    print(f'Epoch {epoch+1}/{num_epochs}, Training Loss: {train_loss:.4f}, Training Accuracy: {train_accuracy:.4f}')\n",
    "    \n",
    "    # Store training metrics\n",
    "    train_losses.append(train_loss)\n",
    "    train_accuracies.append(train_accuracy)\n",
    "    \n",
    "    # Evaluate on the test set\n",
    "    model.eval()\n",
    "    test_loss = 0.0\n",
    "\n",
    "    with torch.no_grad():\n",
    "        for user_id, movie_id, rating in test_loader:\n",
    "            # Move data to GPU\n",
    "            user_id = user_id.to(device)\n",
    "            movie_id = movie_id.to(device)\n",
    "            rating = rating.to(device)\n",
    "            \n",
    "            # Forward pass (outputs will be on GPU)\n",
    "            outputs = model(user_id, movie_id).squeeze()\n",
    "            \n",
    "            # Compute loss on GPU\n",
    "            loss = criterion(outputs, rating)\n",
    "            test_loss += loss.item()\n",
    "\n",
    "    avg_test_loss = test_loss / len(test_loader)\n",
    "    test_accuracy = calculate_accuracy(test_loader, model)\n",
    "    print(f'Test Loss: {avg_test_loss:.4f}, Test Accuracy: {test_accuracy:.4f}')\n",
    "    \n",
    "    # Store test metrics\n",
    "    test_losses.append(avg_test_loss)\n",
    "    test_accuracies.append(test_accuracy)\n",
    "    \n",
    "    # Check if the current test loss is the best we've seen\n",
    "    if avg_test_loss < best_test_loss or test_accuracy > best_test_accuracy:\n",
    "        print(f'Saving model with Test Loss {avg_test_loss:.4f} and Test Accuracy {test_accuracy:.4f}')\n",
    "        best_test_loss = avg_test_loss\n",
    "        best_test_accuracy = test_accuracy\n",
    "        patience_counter = 0\n",
    "        torch.save(model.state_dict(), model_save_path)\n",
    "    else:\n",
    "        patience_counter += 1\n",
    "        print(f'No improvement in test loss or accuracy for {patience_counter} epochs.')\n",
    "    \n",
    "    # Early stopping check\n",
    "    if patience_counter >= patience:\n",
    "        print(f'Early stopping triggered after {epoch+1} epochs.')\n",
    "        break\n",
    "\n",
    "print('Training complete')\n"
   ]
  },
  {
   "cell_type": "code",
   "execution_count": 13,
   "id": "92cf6bb1-f2ee-4f1d-afc1-f23d5097bacd",
   "metadata": {},
   "outputs": [
    {
     "data": {
      "image/png": "[encoded data removed]",
      "text/plain": [
       "<Figure size 1400x600 with 2 Axes>"
      ]
     },
     "metadata": {},
     "output_type": "display_data"
    }
   ],
   "source": [
    "# Plotting training and test metrics\n",
    "epochs_range = range(1, len(train_losses) + 1)\n",
    "\n",
    "plt.figure(figsize=(14, 6))\n",
    "\n",
    "# Plotting Loss\n",
    "plt.subplot(1, 2, 1)\n",
    "plt.plot(epochs_range, train_losses, label='Training Loss', color='blue', marker='o')\n",
    "plt.plot(epochs_range, test_losses, label='Test Loss', color='orange', marker='o')\n",
    "plt.xlabel('Epochs')\n",
    "plt.ylabel('Loss')\n",
    "plt.title('Training and Test Loss')\n",
    "plt.legend()\n",
    "\n",
    "# Plotting Accuracy\n",
    "plt.subplot(1, 2, 2)\n",
    "plt.plot(epochs_range, train_accuracies, label='Training Accuracy', color='blue', marker='o')\n",
    "plt.plot(epochs_range, test_accuracies, label='Test Accuracy', color='orange', marker='o')\n",
    "plt.xlabel('Epochs')\n",
    "plt.ylabel('Accuracy')\n",
    "plt.title('Training and Test Accuracy')\n",
    "plt.legend()\n",
    "\n",
    "plt.show()\n"
   ]
  },
  {
   "cell_type": "code",
   "execution_count": 14,
   "id": "19921c46-50c3-44cc-9832-be9e561696b9",
   "metadata": {},
   "outputs": [],
   "source": [
    "# Load the best model for inference\n",
    "# model.load_state_dict(torch.load(model_save_path))\n",
    "model.load_state_dict(torch.load(model_save_path, map_location=torch.device('cpu')))\n",
    "model.eval()\n",
    "\n",
    "# Sentiment Analysis Initialization\n",
    "sia = SentimentIntensityAnalyzer()\n",
    "\n"
   ]
  },
  {
   "cell_type": "code",
   "execution_count": 15,
   "id": "290734f9-a1de-4f7c-af55-36051b427542",
   "metadata": {},
   "outputs": [],
   "source": [
    "def analyze_sentiment(description):\n",
    "    sentiment_scores = sia.polarity_scores(description)\n",
    "    return sentiment_scores\n",
    "\n"
   ]
  },
  {
   "cell_type": "code",
   "execution_count": 16,
   "id": "4024024c-8986-44e3-8b85-2493cca74fbe",
   "metadata": {},
   "outputs": [],
   "source": [
    "# Movie Recommendation Function with Sentiment Analysis\n",
    "def recommend_movies(user_id, description, num_recommendations=5):\n",
    "    model.eval()\n",
    "    \n",
    "    # Analyze sentiment of the user's description\n",
    "    sentiment_scores = analyze_sentiment(description)\n",
    "    sentiment_factor = 1 + sentiment_scores['compound'] * 0.1  # Adjust factor based on sentiment\n",
    "    print(sentiment_factor)    ##### Delete this\n",
    "    \n",
    "    # Move user_id_tensor to GPU\n",
    "    user_id_tensor = torch.tensor([user_id], dtype=torch.long).to(device)\n",
    "    \n",
    "    predictions = []\n",
    "    for movie_id in range(num_movies):\n",
    "        # Move movie_id_tensor to GPU\n",
    "        movie_id_tensor = torch.tensor([movie_id], dtype=torch.long).to(device)\n",
    "        \n",
    "        # Predict rating without computing gradients\n",
    "        with torch.no_grad():\n",
    "            predicted_rating = model(user_id_tensor, movie_id_tensor).item()\n",
    "        \n",
    "        # Adjust predicted rating based on sentiment\n",
    "        adjusted_rating = predicted_rating * sentiment_factor\n",
    "        predictions.append((movie_id, adjusted_rating))\n",
    "    \n",
    "    # Sort movies by predicted rating\n",
    "    predictions.sort(key=lambda x: x[1], reverse=True)\n",
    "    \n",
    "    # Get top N recommendations\n",
    "    recommended_movie_ids = [movie_id for movie_id, _ in predictions[:num_recommendations]]\n",
    "    \n",
    "    # Decode movie IDs and get the corresponding titles\n",
    "    recommended_movie_titles = []\n",
    "    for mid in recommended_movie_ids:\n",
    "        original_movie_id = movie_encoder.inverse_transform([mid])[0]\n",
    "        movie_title = movies[movies['movieId'] == original_movie_id]['title'].values[0]\n",
    "        recommended_movie_titles.append(movie_title)\n",
    "    \n",
    "    return recommended_movie_titles\n",
    "\n"
   ]
  },
  {
   "cell_type": "code",
   "execution_count": 17,
   "id": "2ecf45a1-7b21-4058-a1fe-4a7b94558e5f",
   "metadata": {},
   "outputs": [
    {
     "name": "stdout",
     "output_type": "stream",
     "text": [
      "1.08979\n",
      "['Shawshank Redemption, The (1994)', 'Dark Knight, The (2008)', 'Planet Earth II (2016)', 'Whiplash (2013)', 'Braveheart (1995)']\n"
     ]
    }
   ],
   "source": [
    "# Example usage\n",
    "user_id = 1\n",
    "description = \"I love heartwarming movies with positive and uplifting stories.\"\n",
    "recommendations = recommend_movies(user_id, description)\n",
    "print(recommendations)"
   ]
  },
  {
   "cell_type": "code",
   "execution_count": 18,
   "id": "518129c8-41c3-4214-b444-ff7edb7e5406",
   "metadata": {},
   "outputs": [
    {
     "name": "stdout",
     "output_type": "stream",
     "text": [
      "1.08979\n",
      "['3 Idiots (2009)', 'Piper (2016)', 'Civil War, The (1990)', 'Presto (2008)', 'Blue Planet II (2017)']\n"
     ]
    }
   ],
   "source": [
    "# Example usage\n",
    "user_id = 2\n",
    "description = \"I love heartwarming movies with positive and uplifting stories.\"\n",
    "recommendations = recommend_movies(user_id, description)\n",
    "print(recommendations)"
   ]
  },
  {
   "cell_type": "code",
   "execution_count": 19,
   "id": "6f30b4cf-85e5-40fc-ae2a-9d8fc1985b2b",
   "metadata": {},
   "outputs": [
    {
     "name": "stdout",
     "output_type": "stream",
     "text": [
      "1.06697\n",
      "['Planet Earth II (2016)', 'Planet Earth (2006)', 'Godfather, The (1972)', 'Shawshank Redemption, The (1994)', 'Blue Planet II (2017)']\n"
     ]
    }
   ],
   "source": [
    "# Example usage\n",
    "user_id = 2100\n",
    "description = \"I like to watch more romantic movies\"\n",
    "recommendations = recommend_movies(user_id, description)\n",
    "print(recommendations)"
   ]
  },
  {
   "cell_type": "code",
   "execution_count": 23,
   "id": "7c83354a-eada-471f-a204-6c22f14425bb",
   "metadata": {},
   "outputs": [
    {
     "name": "stdout",
     "output_type": "stream",
     "text": [
      "1.04939\n",
      "['Cosmos', 'Star Wars: Episode IV - A New Hope (1977)', 'The Blue Planet (2001)', 'Die Hard (1988)', 'Raiders of the Lost Ark (Indiana Jones and the Raiders of the Lost Ark) (1981)']\n"
     ]
    }
   ],
   "source": [
    "# Example usage\n",
    "user_id = 1000\n",
    "description = \"I hate romantic movies and like comedies\"\n",
    "recommendations = recommend_movies(user_id, description)\n",
    "print(recommendations)"
   ]
  },
  {
   "cell_type": "code",
   "execution_count": null,
   "id": "cd518c55-e9c6-4a78-a120-aa80a4b1249b",
   "metadata": {},
   "outputs": [],
   "source": []
  }
 ],
 "metadata": {
  "kernelspec": {
   "display_name": "Python 3 (ipykernel)",
   "language": "python",
   "name": "python3"
  },
  "language_info": {
   "codemirror_mode": {
    "name": "ipython",
    "version": 3
   },
   "file_extension": ".py",
   "mimetype": "text/x-python",
   "name": "python",
   "nbconvert_exporter": "python",
   "pygments_lexer": "ipython3",
   "version": "3.12.0"
  }
 },
 "nbformat": 4,
 "nbformat_minor": 5
}
